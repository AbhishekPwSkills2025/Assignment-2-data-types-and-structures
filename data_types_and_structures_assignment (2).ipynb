{
 "cells": [
  {
   "cell_type": "markdown",
   "id": "948d1e74",
   "metadata": {},
   "source": [
    "# Data Types and Structures Questions"
   ]
  },
  {
   "cell_type": "markdown",
   "id": "d0817a66",
   "metadata": {},
   "source": [
    "### 1. What are data structures, and why are they important?"
   ]
  },
  {
   "cell_type": "code",
   "execution_count": null,
   "id": "f0736ade",
   "metadata": {},
   "outputs": [],
   "source": [
    "Data structures are specialized formats for organizing, processing, and storing data. They are important because they help manage large amounts of data efficiently, provide ways to organize and manipulate data, and allow for optimized searching, sorting, and updating of information."
   ]
  },
  {
   "cell_type": "markdown",
   "id": "2c29d43b",
   "metadata": {},
   "source": [
    "### 2. Explain the difference between mutable and immutable data types with examples"
   ]
  },
  {
   "cell_type": "code",
   "execution_count": null,
   "id": "c893aeba",
   "metadata": {},
   "outputs": [],
   "source": [
    "Mutable data types can be changed after their creation, such as lists and dictionaries. Immutable data types cannot be changed once they are created, such as strings, tuples, and integers. For example, you can modify a list, but not a string."
   ]
  },
  {
   "cell_type": "markdown",
   "id": "734bbf2d",
   "metadata": {},
   "source": [
    "### 3. What are the main differences between lists and tuples in Python?"
   ]
  },
  {
   "cell_type": "code",
   "execution_count": null,
   "id": "22ef25b4",
   "metadata": {},
   "outputs": [],
   "source": [
    "Lists are mutable (can be changed), ordered, and allow duplicates. Tuples are immutable (cannot be changed), ordered, and allow duplicates."
   ]
  },
  {
   "cell_type": "markdown",
   "id": "6830995a",
   "metadata": {},
   "source": [
    "### 4. Describe how dictionaries store data"
   ]
  },
  {
   "cell_type": "code",
   "execution_count": null,
   "id": "f4024dfb",
   "metadata": {},
   "outputs": [],
   "source": [
    "Dictionaries store data in key-value pairs, where each key is unique and maps to a corresponding value. It uses a hash table for efficient lookups."
   ]
  },
  {
   "cell_type": "markdown",
   "id": "f7e79208",
   "metadata": {},
   "source": [
    "### 5. Why might you use a set instead of a list in Python?"
   ]
  },
  {
   "cell_type": "code",
   "execution_count": null,
   "id": "913ae2de",
   "metadata": {},
   "outputs": [],
   "source": [
    "Sets are unordered collections of unique elements, making them ideal when you need to remove duplicates or perform set operations like union and intersection."
   ]
  },
  {
   "cell_type": "markdown",
   "id": "6bd8d9a3",
   "metadata": {},
   "source": [
    "### 6. What is a string in Python, and how is it different from a list?"
   ]
  },
  {
   "cell_type": "code",
   "execution_count": null,
   "id": "ce8da9ea",
   "metadata": {},
   "outputs": [],
   "source": [
    "A string is a sequence of characters enclosed in quotes. It is immutable, meaning it cannot be changed. A list, however, is a sequence of elements that can be of any data type and is mutable."
   ]
  },
  {
   "cell_type": "markdown",
   "id": "1b10c893",
   "metadata": {},
   "source": [
    "### 7. How do tuples ensure data integrity in Python?"
   ]
  },
  {
   "cell_type": "code",
   "execution_count": null,
   "id": "e82cdc34",
   "metadata": {},
   "outputs": [],
   "source": [
    "Tuples ensure data integrity by being immutable, meaning once created, their contents cannot be modified, which prevents accidental data alteration."
   ]
  },
  {
   "cell_type": "markdown",
   "id": "c1aa497d",
   "metadata": {},
   "source": [
    "### 8. What is a hash table, and how does it relate to dictionaries in Python?"
   ]
  },
  {
   "cell_type": "code",
   "execution_count": null,
   "id": "77ea7550",
   "metadata": {},
   "outputs": [],
   "source": [
    "A hash table is a data structure that stores data in a way that allows for fast retrieval using a key. Dictionaries in Python are implemented using hash tables."
   ]
  },
  {
   "cell_type": "markdown",
   "id": "3da1bc1b",
   "metadata": {},
   "source": [
    "### 9. Can lists contain different data types in Python?"
   ]
  },
  {
   "cell_type": "code",
   "execution_count": null,
   "id": "f5656a46",
   "metadata": {},
   "outputs": [],
   "source": [
    "Yes, lists in Python can contain elements of different data types, including integers, strings, floats, etc."
   ]
  },
  {
   "cell_type": "markdown",
   "id": "b5a6a8c4",
   "metadata": {},
   "source": [
    "### 10. Explain why strings are immutable in Python"
   ]
  },
  {
   "cell_type": "code",
   "execution_count": null,
   "id": "ed528644",
   "metadata": {},
   "outputs": [],
   "source": [
    "Strings are immutable in Python to ensure data integrity, to optimize memory usage, and to avoid unexpected side effects in programs."
   ]
  },
  {
   "cell_type": "markdown",
   "id": "c730639e",
   "metadata": {},
   "source": [
    "### 11. What advantages do dictionaries offer over lists for certain tasks?"
   ]
  },
  {
   "cell_type": "code",
   "execution_count": null,
   "id": "50c42e8d",
   "metadata": {},
   "outputs": [],
   "source": [
    "Dictionaries offer faster lookups compared to lists, as they use keys instead of indexes for accessing values, making them ideal for tasks requiring efficient search operations."
   ]
  },
  {
   "cell_type": "markdown",
   "id": "dcca9073",
   "metadata": {},
   "source": [
    "### 12. Describe a scenario where using a tuple would be preferable over a list"
   ]
  },
  {
   "cell_type": "code",
   "execution_count": null,
   "id": "c835f83b",
   "metadata": {},
   "outputs": [],
   "source": [
    "Tuples are preferable when you need an immutable sequence, like when storing fixed data that should not be altered, for example, representing a date or coordinates."
   ]
  },
  {
   "cell_type": "markdown",
   "id": "ae148afb",
   "metadata": {},
   "source": [
    "### 13. How do sets handle duplicate values in Python?"
   ]
  },
  {
   "cell_type": "code",
   "execution_count": null,
   "id": "6f98b78c",
   "metadata": {},
   "outputs": [],
   "source": [
    "Sets automatically remove duplicate values. When you add a duplicate element to a set, it will not be added again."
   ]
  },
  {
   "cell_type": "markdown",
   "id": "6def5c0d",
   "metadata": {},
   "source": [
    "### 14. How does the “in” keyword work differently for lists and dictionaries?"
   ]
  },
  {
   "cell_type": "code",
   "execution_count": null,
   "id": "2d79d12b",
   "metadata": {},
   "outputs": [],
   "source": [
    "For lists, the `in` keyword checks if an element is present. For dictionaries, it checks if a key is present in the dictionary."
   ]
  },
  {
   "cell_type": "markdown",
   "id": "0bcc14f5",
   "metadata": {},
   "source": [
    "### 15. Can you modify the elements of a tuple? Explain why or why not"
   ]
  },
  {
   "cell_type": "code",
   "execution_count": null,
   "id": "9af98db5",
   "metadata": {},
   "outputs": [],
   "source": [
    "No, tuples are immutable in Python, meaning you cannot modify their elements after they are created."
   ]
  },
  {
   "cell_type": "markdown",
   "id": "1a0df083",
   "metadata": {},
   "source": [
    "### 16. What is a nested dictionary, and give an example of its use case"
   ]
  },
  {
   "cell_type": "code",
   "execution_count": null,
   "id": "91590146",
   "metadata": {},
   "outputs": [],
   "source": [
    "A nested dictionary is a dictionary where the value of a key is another dictionary. It is useful for storing hierarchical data. Example: `{'person': {'name': 'Alice', 'age': 30}}`."
   ]
  },
  {
   "cell_type": "markdown",
   "id": "f72fec2d",
   "metadata": {},
   "source": [
    "### 17. Describe the time complexity of accessing elements in a dictionary"
   ]
  },
  {
   "cell_type": "code",
   "execution_count": null,
   "id": "bf38c097",
   "metadata": {},
   "outputs": [],
   "source": [
    "The time complexity of accessing an element in a dictionary is O(1) on average due to the use of hash tables."
   ]
  },
  {
   "cell_type": "markdown",
   "id": "b4b3aca8",
   "metadata": {},
   "source": [
    "### 18. In what situations are lists preferred over dictionaries?"
   ]
  },
  {
   "cell_type": "code",
   "execution_count": null,
   "id": "de1087c9",
   "metadata": {},
   "outputs": [],
   "source": [
    "Lists are preferred when the data is ordered and when you need to maintain an index-based structure, such as a sequence of items."
   ]
  },
  {
   "cell_type": "markdown",
   "id": "58c5a052",
   "metadata": {},
   "source": [
    "### 19. Why are dictionaries considered unordered, and how does that affect data retrieval?"
   ]
  },
  {
   "cell_type": "code",
   "execution_count": null,
   "id": "21d502db",
   "metadata": {},
   "outputs": [],
   "source": [
    "Dictionaries are unordered in Python, meaning the order of the elements is not guaranteed. This does not affect retrieval speed, but it means you cannot rely on the order of elements."
   ]
  },
  {
   "cell_type": "markdown",
   "id": "4ffb1139",
   "metadata": {},
   "source": [
    "### 20. Explain the difference between a list and a dictionary in terms of data retrieval."
   ]
  },
  {
   "cell_type": "code",
   "execution_count": null,
   "id": "205cc830",
   "metadata": {},
   "outputs": [],
   "source": [
    "In a list, data is retrieved by an index, while in a dictionary, data is retrieved by a key. Lists are ordered, while dictionaries are unordered."
   ]
  },
  {
   "cell_type": "markdown",
   "id": "385da4fe",
   "metadata": {},
   "source": [
    "### 21. Write a code to create a string with your name and print it."
   ]
  },
  {
   "cell_type": "code",
   "execution_count": 66,
   "id": "d4ec4bb2-5eae-4e68-9d7e-ca1f59b045fb",
   "metadata": {},
   "outputs": [
    {
     "name": "stdout",
     "output_type": "stream",
     "text": [
      "Alice\n"
     ]
    }
   ],
   "source": [
    "# Creating a string with my name\n",
    "my_name = \"Alice\"  # Replace \"Alice\" with your own name\n",
    "\n",
    "# Printing the string\n",
    "print(my_name)\n"
   ]
  },
  {
   "cell_type": "markdown",
   "id": "0f1e969e",
   "metadata": {},
   "source": [
    "### 22. Write a code to find the length of the string 'Hello World'."
   ]
  },
  {
   "cell_type": "code",
   "execution_count": null,
   "id": "3daeefc6",
   "metadata": {},
   "outputs": [],
   "source": [
    "```python\n",
    "text = 'Hello World'\n",
    "print(len(text))  # Output: 11\n",
    "```"
   ]
  },
  {
   "cell_type": "markdown",
   "id": "80d3a829",
   "metadata": {},
   "source": [
    "### 23. Write a code to slice the first 3 characters from the string 'Python Programming'."
   ]
  },
  {
   "cell_type": "code",
   "execution_count": null,
   "id": "438597e8",
   "metadata": {},
   "outputs": [],
   "source": [
    "```python\n",
    "text = 'Python Programming'\n",
    "print(text[:3])  # Output: Pyt\n",
    "```"
   ]
  },
  {
   "cell_type": "markdown",
   "id": "630ce0bc",
   "metadata": {},
   "source": [
    "### 24. Write a code to convert the string 'hello' to uppercase."
   ]
  },
  {
   "cell_type": "code",
   "execution_count": null,
   "id": "338f8a0d",
   "metadata": {},
   "outputs": [],
   "source": [
    "```python\n",
    "text = 'hello'\n",
    "print(text.upper())  # Output: HELLO\n",
    "```"
   ]
  },
  {
   "cell_type": "markdown",
   "id": "6d2caf97",
   "metadata": {},
   "source": [
    "### 25. Write a code to replace the word 'apple' with 'orange' in the string 'I like apple'."
   ]
  },
  {
   "cell_type": "code",
   "execution_count": null,
   "id": "8729a264",
   "metadata": {},
   "outputs": [],
   "source": [
    "```python\n",
    "text = 'I like apple'\n",
    "print(text.replace('apple', 'orange'))  # Output: I like orange\n",
    "```"
   ]
  },
  {
   "cell_type": "markdown",
   "id": "67b965f9",
   "metadata": {},
   "source": [
    "### 26. Write a code to create a list with numbers 1 to 5 and print it."
   ]
  },
  {
   "cell_type": "code",
   "execution_count": null,
   "id": "4771d030",
   "metadata": {},
   "outputs": [],
   "source": [
    "```python\n",
    "numbers = [1, 2, 3, 4, 5]\n",
    "print(numbers)  # Output: [1, 2, 3, 4, 5]\n",
    "```"
   ]
  },
  {
   "cell_type": "markdown",
   "id": "5239141f",
   "metadata": {},
   "source": [
    "### 27. Write a code to append the number 10 to the list [1, 2, 3, 4]."
   ]
  },
  {
   "cell_type": "code",
   "execution_count": null,
   "id": "c86ab877",
   "metadata": {},
   "outputs": [],
   "source": [
    "```python\n",
    "numbers = [1, 2, 3, 4]\n",
    "numbers.append(10)\n",
    "print(numbers)  # Output: [1, 2, 3, 4, 10]\n",
    "```"
   ]
  },
  {
   "cell_type": "markdown",
   "id": "36b56d25",
   "metadata": {},
   "source": [
    "### 28. Write a code to remove the number 3 from the list [1, 2, 3, 4, 5]."
   ]
  },
  {
   "cell_type": "code",
   "execution_count": null,
   "id": "455513f3",
   "metadata": {},
   "outputs": [],
   "source": [
    "```python\n",
    "numbers = [1, 2, 3, 4, 5]\n",
    "numbers.remove(3)\n",
    "print(numbers)  # Output: [1, 2, 4, 5]\n",
    "```"
   ]
  },
  {
   "cell_type": "markdown",
   "id": "98303030",
   "metadata": {},
   "source": [
    "### 29. Write a code to access the second element in the list ['a', 'b', 'c', 'd']."
   ]
  },
  {
   "cell_type": "code",
   "execution_count": null,
   "id": "d7f93713",
   "metadata": {},
   "outputs": [],
   "source": [
    "```python\n",
    "letters = ['a', 'b', 'c', 'd']\n",
    "print(letters[1])  # Output: b\n",
    "```"
   ]
  },
  {
   "cell_type": "markdown",
   "id": "2cf48927",
   "metadata": {},
   "source": [
    "### 30. Write a code to reverse the list [10, 20, 30, 40, 50]."
   ]
  },
  {
   "cell_type": "code",
   "execution_count": 68,
   "id": "b6d1ef07-c2ec-4394-9585-205251d9e950",
   "metadata": {},
   "outputs": [
    {
     "name": "stdout",
     "output_type": "stream",
     "text": [
      "[50, 40, 30, 20, 10]\n"
     ]
    }
   ],
   "source": [
    "# Creating the list\n",
    "my_list = [10, 20, 30, 40, 50]\n",
    "\n",
    "# Reversing the list in-place\n",
    "my_list.reverse()\n",
    "\n",
    "# Printing the reversed list\n",
    "print(my_list)\n"
   ]
  },
  {
   "cell_type": "code",
   "execution_count": 72,
   "id": "6b450d07-8352-47ad-83d7-e844f7111fbd",
   "metadata": {},
   "outputs": [
    {
     "name": "stdout",
     "output_type": "stream",
     "text": [
      "[50, 40, 30, 20, 10]\n"
     ]
    }
   ],
   "source": [
    "#using slice \n",
    "# Creating the list\n",
    "my_list = [10, 20, 30, 40, 50]\n",
    "\n",
    "# Reversing the list using slicing\n",
    "reversed_list = my_list[::-1]\n",
    "\n",
    "# Printing the reversed list\n",
    "print(reversed_list)\n"
   ]
  },
  {
   "cell_type": "markdown",
   "id": "839c3ae6-6da2-4363-88da-66aa929f463f",
   "metadata": {},
   "source": [
    "31. Write a code to create a tuple with the elements 100, 200, 300 and print it. "
   ]
  },
  {
   "cell_type": "code",
   "execution_count": 29,
   "id": "0ad22de8-288b-4bb1-9d54-d606a7637503",
   "metadata": {},
   "outputs": [
    {
     "name": "stdout",
     "output_type": "stream",
     "text": [
      "(100, 200, 300)\n"
     ]
    },
    {
     "data": {
      "text/plain": [
       "(100, 200, 300)"
      ]
     },
     "execution_count": 29,
     "metadata": {},
     "output_type": "execute_result"
    }
   ],
   "source": [
    "# Creating the tuple\n",
    "my_tuple = (100, 200, 300)\n",
    "\n",
    "# Printing the tuple\n",
    "print(my_tuple)\n",
    "\n",
    "(100, 200, 300)\n"
   ]
  },
  {
   "cell_type": "markdown",
   "id": "fa67fce5-e000-4016-b208-c292fa2892e1",
   "metadata": {},
   "source": [
    " 32.Write a code to access the second-to-last element of the tuple ('red', 'green', 'blue', 'yellow')."
   ]
  },
  {
   "cell_type": "code",
   "execution_count": 27,
   "id": "0c0e5c3a-be0e-468c-9fef-caacb526add9",
   "metadata": {},
   "outputs": [
    {
     "name": "stdout",
     "output_type": "stream",
     "text": [
      "blue\n"
     ]
    },
    {
     "data": {
      "text/plain": [
       "'blue'"
      ]
     },
     "execution_count": 27,
     "metadata": {},
     "output_type": "execute_result"
    }
   ],
   "source": [
    "# Creating the tuple\n",
    "my_tuple = ('red', 'green', 'blue', 'yellow')\n",
    "\n",
    "# Accessing the second-to-last element\n",
    "second_to_last = my_tuple[-2]\n",
    "\n",
    "# Printing the second-to-last element\n",
    "print(second_to_last)\n",
    "'blue'\n"
   ]
  },
  {
   "cell_type": "markdown",
   "id": "ecdc31bf-5d06-48e1-ac48-08d29fd15748",
   "metadata": {},
   "source": [
    "33. Write a code to find the minimum number in the tuple (10, 20, 5, 15)."
   ]
  },
  {
   "cell_type": "code",
   "execution_count": 25,
   "id": "6ac5f824-a0ab-4a18-b49e-ff6fd893db9f",
   "metadata": {},
   "outputs": [
    {
     "name": "stdout",
     "output_type": "stream",
     "text": [
      "5\n"
     ]
    },
    {
     "data": {
      "text/plain": [
       "5"
      ]
     },
     "execution_count": 25,
     "metadata": {},
     "output_type": "execute_result"
    }
   ],
   "source": [
    "# Creating the tuple\n",
    "my_tuple = (10, 20, 5, 15)\n",
    "\n",
    "# Finding the minimum number\n",
    "min_number = min(my_tuple)\n",
    "\n",
    "# Printing the minimum number\n",
    "print(min_number)\n",
    "5"
   ]
  },
  {
   "cell_type": "markdown",
   "id": "56dd37d5-e4d2-4081-b644-b198804f03f0",
   "metadata": {},
   "source": [
    "34.  Write a code to find the index of the element \"cat\" in the tuple ('dog', 'cat', 'rabbit')"
   ]
  },
  {
   "cell_type": "code",
   "execution_count": 21,
   "id": "84d1a9a4-9652-4539-abe4-3e1cdd1a915e",
   "metadata": {},
   "outputs": [
    {
     "name": "stdout",
     "output_type": "stream",
     "text": [
      "1\n"
     ]
    },
    {
     "data": {
      "text/plain": [
       "1"
      ]
     },
     "execution_count": 21,
     "metadata": {},
     "output_type": "execute_result"
    }
   ],
   "source": [
    "# Creating the tuple\n",
    "my_tuple = ('dog', 'cat', 'rabbit')\n",
    "\n",
    "# Finding the index of the element \"cat\"\n",
    "index_of_cat = my_tuple.index('cat')\n",
    "\n",
    "# Printing the index\n",
    "print(index_of_cat)\n",
    "1"
   ]
  },
  {
   "cell_type": "markdown",
   "id": "ab6ae1b6-8b39-4c33-a31f-4b63eea8951c",
   "metadata": {},
   "source": [
    "35.  Write a code to create a tuple containing three different fruits and check if \"kiwi\" is in it."
   ]
  },
  {
   "cell_type": "code",
   "execution_count": 23,
   "id": "886fc614-d14f-4e3d-bef3-a4800e6aafcf",
   "metadata": {},
   "outputs": [
    {
     "name": "stdout",
     "output_type": "stream",
     "text": [
      "False\n"
     ]
    },
    {
     "data": {
      "text/plain": [
       "False"
      ]
     },
     "execution_count": 23,
     "metadata": {},
     "output_type": "execute_result"
    }
   ],
   "source": [
    "# Creating the tuple with three different fruits\n",
    "fruits_tuple = ('apple', 'banana', 'orange')\n",
    "\n",
    "# Checking if \"kiwi\" is in the tuple\n",
    "is_kiwi_in_tuple = 'kiwi' in fruits_tuple\n",
    "\n",
    "# Printing the result\n",
    "print(is_kiwi_in_tuple)\n",
    "False"
   ]
  },
  {
   "cell_type": "markdown",
   "id": "869a519f-6e05-468d-9d20-2c056f168ad3",
   "metadata": {},
   "source": [
    "36.  Write a code to create a set with the elements 'a', 'b', 'c' and print it"
   ]
  },
  {
   "cell_type": "code",
   "execution_count": 8,
   "id": "0f207a27-66f4-45de-8843-6cb84b5f8402",
   "metadata": {},
   "outputs": [
    {
     "name": "stdout",
     "output_type": "stream",
     "text": [
      "{'a', 'c', 'b'}\n"
     ]
    },
    {
     "data": {
      "text/plain": [
       "{'a', 'b', 'c'}"
      ]
     },
     "execution_count": 8,
     "metadata": {},
     "output_type": "execute_result"
    }
   ],
   "source": [
    "# Creating the set\n",
    "my_set = {'a', 'b', 'c'}\n",
    "\n",
    "# Printing the set\n",
    "print(my_set)\n",
    "{'a', 'b', 'c'}"
   ]
  },
  {
   "cell_type": "markdown",
   "id": "7803d57e-fc8a-423d-a516-38359a9c0484",
   "metadata": {},
   "source": [
    "37.  Write a code to clear all elements from the set {1, 2, 3, 4, 5}."
   ]
  },
  {
   "cell_type": "code",
   "execution_count": 17,
   "id": "0ef7d38d-2a73-45fb-a58d-08b587caa3e6",
   "metadata": {},
   "outputs": [
    {
     "name": "stdout",
     "output_type": "stream",
     "text": [
      "set()\n"
     ]
    },
    {
     "data": {
      "text/plain": [
       "set()"
      ]
     },
     "execution_count": 17,
     "metadata": {},
     "output_type": "execute_result"
    }
   ],
   "source": [
    "# Creating the set\n",
    "my_set = {1, 2, 3, 4, 5}\n",
    "\n",
    "# Clearing all elements from the set\n",
    "my_set.clear()\n",
    "\n",
    "# Printing the cleared set\n",
    "print(my_set)\n",
    "set()\n"
   ]
  },
  {
   "cell_type": "markdown",
   "id": "cfadb977-a949-4b4a-b1be-0875943e2aed",
   "metadata": {},
   "source": [
    "38. Write a code to remove the element 4 from the set {1, 2, 3, 4}."
   ]
  },
  {
   "cell_type": "code",
   "execution_count": 15,
   "id": "4e56a99b-f3e1-45e1-a972-076b08f84b71",
   "metadata": {},
   "outputs": [
    {
     "name": "stdout",
     "output_type": "stream",
     "text": [
      "{1, 2, 3}\n"
     ]
    },
    {
     "data": {
      "text/plain": [
       "{1, 2, 3}"
      ]
     },
     "execution_count": 15,
     "metadata": {},
     "output_type": "execute_result"
    }
   ],
   "source": [
    "# Creating the set\n",
    "my_set = {1, 2, 3, 4}\n",
    "\n",
    "# Removing the element 4 from the set\n",
    "my_set.remove(4)\n",
    "\n",
    "# Printing the updated set\n",
    "print(my_set)\n",
    "{1, 2, 3}\n"
   ]
  },
  {
   "cell_type": "markdown",
   "id": "2f4a42d7-cbaa-4218-85a0-8c248596ea4c",
   "metadata": {},
   "source": [
    "39. Write a code to find the union of two sets {1, 2, 3} and {3, 4, 5}."
   ]
  },
  {
   "cell_type": "code",
   "execution_count": 13,
   "id": "311c1eff-4068-4e9a-88a3-5430bd0ffc4d",
   "metadata": {},
   "outputs": [
    {
     "name": "stdout",
     "output_type": "stream",
     "text": [
      "{1, 2, 3, 4, 5}\n"
     ]
    },
    {
     "data": {
      "text/plain": [
       "{1, 2, 3, 4, 5}"
      ]
     },
     "execution_count": 13,
     "metadata": {},
     "output_type": "execute_result"
    }
   ],
   "source": [
    "# Creating the sets\n",
    "set1 = {1, 2, 3}\n",
    "set2 = {3, 4, 5}\n",
    "\n",
    "# Finding the union of the two sets using the union() method\n",
    "union_set = set1.union(set2)\n",
    "\n",
    "# Or using the | operator\n",
    "# union_set = set1 | set2\n",
    "\n",
    "# Printing the union of the sets\n",
    "print(union_set)\n",
    "{1, 2, 3, 4, 5}\n"
   ]
  },
  {
   "cell_type": "markdown",
   "id": "5a864daf-1191-48ec-ae6f-da48f52100dc",
   "metadata": {},
   "source": [
    "40. Write a code to find the intersection of two sets {1, 2, 3} and {2, 3, 4}."
   ]
  },
  {
   "cell_type": "code",
   "execution_count": 33,
   "id": "addc6d39-0eda-42a7-b972-25419ee350ff",
   "metadata": {},
   "outputs": [
    {
     "name": "stdout",
     "output_type": "stream",
     "text": [
      "{2, 3}\n"
     ]
    }
   ],
   "source": [
    "# Creating the sets\n",
    "set1 = {1, 2, 3}\n",
    "set2 = {2, 3, 4}\n",
    "\n",
    "# Finding the intersection of the two sets using the intersection() method\n",
    "intersection_set = set1.intersection(set2)\n",
    "\n",
    "# Or using the & operator\n",
    "# intersection_set = set1 & set2\n",
    "\n",
    "# Printing the intersection of the sets\n",
    "print(intersection_set)\n"
   ]
  },
  {
   "cell_type": "markdown",
   "id": "da465c49-160d-48c7-824e-fabdf3125974",
   "metadata": {},
   "source": [
    "41. Write a code to create a dictionary with the keys \"name\", \"age\", and \"city\", and print it."
   ]
  },
  {
   "cell_type": "code",
   "execution_count": 36,
   "id": "1cd67695-8eb1-407a-a405-804a62973b50",
   "metadata": {},
   "outputs": [
    {
     "name": "stdout",
     "output_type": "stream",
     "text": [
      "{'name': 'John', 'age': 25, 'city': 'New York'}\n"
     ]
    }
   ],
   "source": [
    "# Creating the dictionary\n",
    "my_dict = {\n",
    "    \"name\": \"John\",\n",
    "    \"age\": 25,\n",
    "    \"city\": \"New York\"\n",
    "}\n",
    "\n",
    "# Printing the dictionary\n",
    "print(my_dict)\n"
   ]
  },
  {
   "cell_type": "markdown",
   "id": "53c5a0a3-41b1-4587-996a-86093e831f3f",
   "metadata": {},
   "source": [
    "42.  Write a code to add a new key-value pair \"country\": \"USA\" to the dictionary {'name': 'John', 'age': 25}"
   ]
  },
  {
   "cell_type": "code",
   "execution_count": 39,
   "id": "b1f1feb8-420f-460f-910e-9f4e6b7104d9",
   "metadata": {},
   "outputs": [
    {
     "name": "stdout",
     "output_type": "stream",
     "text": [
      "{'name': 'John', 'age': 25, 'country': 'USA'}\n"
     ]
    }
   ],
   "source": [
    "# Existing dictionary\n",
    "my_dict = {'name': 'John', 'age': 25}\n",
    "\n",
    "# Adding a new key-value pair\n",
    "my_dict['country'] = 'USA'\n",
    "\n",
    "# Printing the updated dictionary\n",
    "print(my_dict)\n"
   ]
  },
  {
   "cell_type": "markdown",
   "id": "d869cb98-c8e0-48c8-bd71-4fce4f9faa60",
   "metadata": {},
   "source": [
    "43. Write a code to access the value associated with the key \"name\" in the dictionary {'name': 'Alice', 'age': 30}."
   ]
  },
  {
   "cell_type": "code",
   "execution_count": 42,
   "id": "f5462792-4467-45f0-b82e-6259387daae8",
   "metadata": {},
   "outputs": [
    {
     "name": "stdout",
     "output_type": "stream",
     "text": [
      "Alice\n"
     ]
    }
   ],
   "source": [
    "# Creating the dictionary\n",
    "my_dict = {'name': 'Alice', 'age': 30}\n",
    "\n",
    "# Accessing the value associated with the key \"name\"\n",
    "name_value = my_dict['name']\n",
    "\n",
    "# Or using the get() method\n",
    "# name_value = my_dict.get('name')\n",
    "\n",
    "# Printing the value\n",
    "print(name_value)\n"
   ]
  },
  {
   "cell_type": "markdown",
   "id": "14b1c98a-b986-433c-8430-70d49337c7a6",
   "metadata": {},
   "source": [
    "44.  Write a code to remove the key \"age\" from the dictionary {'name': 'Bob', 'age': 22, 'city': 'New York'}."
   ]
  },
  {
   "cell_type": "code",
   "execution_count": 45,
   "id": "7804bf4b-3a02-4279-914d-f619bc77ba54",
   "metadata": {},
   "outputs": [
    {
     "name": "stdout",
     "output_type": "stream",
     "text": [
      "{'name': 'Bob', 'city': 'New York'}\n"
     ]
    }
   ],
   "source": [
    "# Creating the dictionary\n",
    "my_dict = {'name': 'Bob', 'age': 22, 'city': 'New York'}\n",
    "\n",
    "# Removing the key \"age\"\n",
    "del my_dict['age']\n",
    "\n",
    "# Printing the updated dictionary\n",
    "print(my_dict)\n"
   ]
  },
  {
   "cell_type": "markdown",
   "id": "696bd894-8268-44d4-bab3-6b2ed2c7ce6d",
   "metadata": {},
   "source": [
    "45. Write a code to check if the key \"city\" exists in the dictionary {'name': 'Alice', 'city': 'Paris'}."
   ]
  },
  {
   "cell_type": "code",
   "execution_count": 48,
   "id": "c73cb640-4c09-49ba-982d-1e4d14414ae8",
   "metadata": {},
   "outputs": [
    {
     "name": "stdout",
     "output_type": "stream",
     "text": [
      "True\n"
     ]
    }
   ],
   "source": [
    "# Creating the dictionary\n",
    "my_dict = {'name': 'Alice', 'city': 'Paris'}\n",
    "\n",
    "# Checking if the key \"city\" exists in the dictionary\n",
    "key_exists = 'city' in my_dict\n",
    "\n",
    "# Printing the result\n",
    "print(key_exists)\n"
   ]
  },
  {
   "cell_type": "markdown",
   "id": "1bcf748f-9459-4b14-8617-4ad05b4b2db6",
   "metadata": {},
   "source": [
    "46. Write a code to create a list, a tuple, and a dictionary, and print them all."
   ]
  },
  {
   "cell_type": "code",
   "execution_count": 51,
   "id": "555ca640-b71d-4d22-9200-77730f6abe5f",
   "metadata": {},
   "outputs": [
    {
     "name": "stdout",
     "output_type": "stream",
     "text": [
      "List: [1, 2, 3, 4, 5]\n",
      "Tuple: ('apple', 'banana', 'cherry')\n",
      "Dictionary: {'name': 'John', 'age': 25, 'city': 'New York'}\n"
     ]
    }
   ],
   "source": [
    "# Creating a list\n",
    "my_list = [1, 2, 3, 4, 5]\n",
    "\n",
    "# Creating a tuple\n",
    "my_tuple = ('apple', 'banana', 'cherry')\n",
    "\n",
    "# Creating a dictionary\n",
    "my_dict = {'name': 'John', 'age': 25, 'city': 'New York'}\n",
    "\n",
    "# Printing the list, tuple, and dictionary\n",
    "print(\"List:\", my_list)\n",
    "print(\"Tuple:\", my_tuple)\n",
    "print(\"Dictionary:\", my_dict)\n"
   ]
  },
  {
   "cell_type": "markdown",
   "id": "155db89e-d6a3-40b0-8017-02ddf7c6f98d",
   "metadata": {},
   "source": [
    "47. Write a code to create a list of 5 random numbers between 1 and 100, sort it in ascending order, and print the\n",
    "result.(replaced)"
   ]
  },
  {
   "cell_type": "code",
   "execution_count": 54,
   "id": "29b03e81-45e2-41bc-a71e-6238289b0194",
   "metadata": {},
   "outputs": [
    {
     "name": "stdout",
     "output_type": "stream",
     "text": [
      "[18, 45, 53, 58, 59]\n"
     ]
    }
   ],
   "source": [
    "import random\n",
    "\n",
    "# Creating a list of 5 random numbers between 1 and 100\n",
    "random_numbers = [random.randint(1, 100) for _ in range(5)]\n",
    "\n",
    "# Sorting the list in ascending order\n",
    "random_numbers.sort()\n",
    "\n",
    "# Printing the sorted list\n",
    "print(random_numbers)\n"
   ]
  },
  {
   "cell_type": "markdown",
   "id": "96ed539d-2608-476a-b4a6-b10efc71f963",
   "metadata": {},
   "source": [
    "48. Write a code to create a list with strings and print the element at the third index."
   ]
  },
  {
   "cell_type": "code",
   "execution_count": 58,
   "id": "f51ad401-db62-4d69-aaa5-07ae0822b7de",
   "metadata": {},
   "outputs": [
    {
     "name": "stdout",
     "output_type": "stream",
     "text": [
      "date\n"
     ]
    }
   ],
   "source": [
    "# Creating a list of strings\n",
    "my_list = ['apple', 'banana', 'cherry', 'date', 'elderberry']\n",
    "\n",
    "# Printing the element at the third index\n",
    "print(my_list[3])\n"
   ]
  },
  {
   "cell_type": "markdown",
   "id": "15b42438-058c-4ca3-b3f2-b0b39f039bee",
   "metadata": {},
   "source": [
    "49.  Write a code to combine two dictionaries into one and print the result."
   ]
  },
  {
   "cell_type": "code",
   "execution_count": 61,
   "id": "a49b605f-f5a4-4890-af32-d05e335b1d2f",
   "metadata": {},
   "outputs": [
    {
     "name": "stdout",
     "output_type": "stream",
     "text": [
      "{'name': 'Alice', 'age': 30, 'city': 'Paris', 'country': 'France'}\n"
     ]
    }
   ],
   "source": [
    "# Creating two dictionaries\n",
    "dict1 = {'name': 'Alice', 'age': 30}\n",
    "dict2 = {'city': 'Paris', 'country': 'France'}\n",
    "\n",
    "# Combining the dictionaries\n",
    "dict1.update(dict2)\n",
    "\n",
    "# Printing the combined dictionary\n",
    "print(dict1)\n"
   ]
  },
  {
   "cell_type": "markdown",
   "id": "7b4aa37d-53e3-4be1-ba56-09e58f8ddbd5",
   "metadata": {},
   "source": [
    "50. Write a code to convert a list of strings into a set"
   ]
  },
  {
   "cell_type": "code",
   "execution_count": 64,
   "id": "083378bc-4331-4309-af59-55e9804ded29",
   "metadata": {},
   "outputs": [
    {
     "name": "stdout",
     "output_type": "stream",
     "text": [
      "{'apple', 'banana', 'orange', 'cherry'}\n"
     ]
    }
   ],
   "source": [
    "# Creating a list of strings\n",
    "my_list = ['apple', 'banana', 'cherry', 'apple', 'orange']\n",
    "\n",
    "# Converting the list into a set\n",
    "my_set = set(my_list)\n",
    "\n",
    "# Printing the set\n",
    "print(my_set)\n"
   ]
  },
  {
   "cell_type": "code",
   "execution_count": null,
   "id": "0d6d4d6a-972c-49e2-8f08-abc7cf160f65",
   "metadata": {},
   "outputs": [],
   "source": []
  }
 ],
 "metadata": {
  "kernelspec": {
   "display_name": "Python [conda env:base] *",
   "language": "python",
   "name": "conda-base-py"
  },
  "language_info": {
   "codemirror_mode": {
    "name": "ipython",
    "version": 3
   },
   "file_extension": ".py",
   "mimetype": "text/x-python",
   "name": "python",
   "nbconvert_exporter": "python",
   "pygments_lexer": "ipython3",
   "version": "3.12.7"
  }
 },
 "nbformat": 4,
 "nbformat_minor": 5
}
